{
 "cells": [
  {
   "cell_type": "markdown",
   "id": "6db35712-44f4-4e69-9589-67a5cdab7f5d",
   "metadata": {},
   "source": [
    "## Load Stuff"
   ]
  },
  {
   "cell_type": "code",
   "execution_count": 1,
   "id": "cc50c35e-0dbe-4ffd-993d-280b28d4ce8f",
   "metadata": {},
   "outputs": [],
   "source": [
    "import torch\n",
    "from mario_gpt import MarioDataset, MarioLM, TrainingConfig, MarioGPTTrainer\n",
    "from mario_gpt.utils import view_level, convert_level_to_png, join_list_of_list, characterize"
   ]
  },
  {
   "cell_type": "code",
   "execution_count": 2,
   "id": "b44930dd-c364-4c8a-8cb1-7be444e05471",
   "metadata": {},
   "outputs": [],
   "source": [
    "BASE = \"distilgpt2\""
   ]
  },
  {
   "cell_type": "code",
   "execution_count": 3,
   "id": "c839473d-64a5-4ecb-85b4-51d311e9859c",
   "metadata": {},
   "outputs": [],
   "source": [
    "from transformers import AutoConfig, AutoModelWithLMHead"
   ]
  },
  {
   "cell_type": "code",
   "execution_count": 4,
   "id": "e14649e1-07a3-4549-b6ab-6d574c464455",
   "metadata": {},
   "outputs": [
    {
     "name": "stdout",
     "output_type": "stream",
     "text": [
      "Using distilgpt2 lm\n"
     ]
    },
    {
     "name": "stderr",
     "output_type": "stream",
     "text": [
      "/home/kokkgoblin/miniconda3/envs/py39/lib/python3.9/site-packages/transformers/models/auto/modeling_auto.py:1362: FutureWarning: The class `AutoModelWithLMHead` is deprecated and will be removed in a future version. Please use `AutoModelForCausalLM` for causal language models, `AutoModelForMaskedLM` for masked language models and `AutoModelForSeq2SeqLM` for encoder-decoder models.\n",
      "  warnings.warn(\n",
      "Some weights of GPT2LMHeadModel were not initialized from the model checkpoint at distilgpt2 and are newly initialized: ['transformer.h.5.ln_cross_attn.bias', 'transformer.h.1.crossattention.q_attn.bias', 'transformer.h.5.crossattention.c_attn.bias', 'transformer.h.5.crossattention.c_attn.weight', 'transformer.h.3.crossattention.c_proj.weight', 'transformer.h.0.crossattention.c_attn.weight', 'transformer.h.0.crossattention.q_attn.bias', 'transformer.h.0.crossattention.q_attn.weight', 'transformer.h.1.crossattention.c_attn.weight', 'transformer.h.2.crossattention.c_proj.weight', 'transformer.h.1.crossattention.c_attn.bias', 'transformer.h.0.crossattention.c_attn.bias', 'transformer.h.1.crossattention.c_proj.weight', 'transformer.h.5.crossattention.c_proj.weight', 'transformer.h.4.crossattention.c_attn.bias', 'transformer.h.4.crossattention.c_proj.bias', 'transformer.h.1.ln_cross_attn.bias', 'transformer.h.4.crossattention.c_attn.weight', 'transformer.h.4.crossattention.c_proj.weight', 'transformer.h.2.crossattention.c_attn.bias', 'transformer.h.0.ln_cross_attn.weight', 'transformer.h.0.ln_cross_attn.bias', 'transformer.h.4.crossattention.q_attn.weight', 'transformer.h.3.ln_cross_attn.bias', 'transformer.h.5.crossattention.c_proj.bias', 'transformer.h.3.crossattention.q_attn.bias', 'transformer.h.0.crossattention.c_proj.weight', 'transformer.h.3.crossattention.q_attn.weight', 'transformer.h.2.crossattention.q_attn.weight', 'transformer.h.2.ln_cross_attn.weight', 'transformer.h.5.ln_cross_attn.weight', 'transformer.h.3.crossattention.c_proj.bias', 'transformer.h.2.crossattention.q_attn.bias', 'transformer.h.4.ln_cross_attn.bias', 'transformer.h.0.crossattention.c_proj.bias', 'transformer.h.2.crossattention.c_proj.bias', 'transformer.h.2.ln_cross_attn.bias', 'transformer.h.5.crossattention.q_attn.weight', 'transformer.h.3.crossattention.c_attn.weight', 'transformer.h.4.ln_cross_attn.weight', 'transformer.h.1.crossattention.q_attn.weight', 'transformer.h.5.crossattention.q_attn.bias', 'transformer.h.1.crossattention.c_proj.bias', 'transformer.h.3.ln_cross_attn.weight', 'transformer.h.1.ln_cross_attn.weight', 'transformer.h.2.crossattention.c_attn.weight', 'transformer.h.4.crossattention.q_attn.bias', 'transformer.h.3.crossattention.c_attn.bias']\n",
      "You should probably TRAIN this model on a down-stream task to be able to use it for predictions and inference.\n"
     ]
    },
    {
     "name": "stdout",
     "output_type": "stream",
     "text": [
      "Using distilgpt2 tokenizer\n"
     ]
    }
   ],
   "source": [
    "mario_lm = MarioLM(lm_path=BASE, tokenizer_path=BASE)"
   ]
  },
  {
   "cell_type": "markdown",
   "id": "b2a9fc71-206f-4c60-800a-d72dc33eeeba",
   "metadata": {},
   "source": [
    "### Load Dataset (Optional)"
   ]
  },
  {
   "cell_type": "code",
   "execution_count": 5,
   "id": "1ee9ec86-1d5b-45cb-ada6-2b52d10edf5e",
   "metadata": {},
   "outputs": [
    {
     "name": "stdout",
     "output_type": "stream",
     "text": [
      "No level string specified, using default string FULL_LEVEL_STR_WITH_PATHS...\n",
      "\n",
      "\n",
      "\n"
     ]
    },
    {
     "name": "stderr",
     "output_type": "stream",
     "text": [
      "Token indices sequence length is longer than the specified maximum sequence length for this model (102116 > 1024). Running this sequence through the model will result in indexing errors\n"
     ]
    }
   ],
   "source": [
    "dataset = MarioDataset(mario_lm.tokenizer)"
   ]
  },
  {
   "cell_type": "code",
   "execution_count": 6,
   "id": "6bdf49ba-0bd0-4bf0-a8f8-fd7230689481",
   "metadata": {},
   "outputs": [
    {
     "data": {
      "text/plain": [
       "['--------------------------------------------------',\n",
       " '--------------------------------------------------',\n",
       " '--------------------------------------------------',\n",
       " '--------------------------------------------------',\n",
       " '-------------------------------------------------o',\n",
       " '--------XSSSSS---------------------------------SSS',\n",
       " '--------X-----------------------------------------',\n",
       " '--------X-----------------------------------------',\n",
       " '-------EX--E-X---------------xxxx-?-----------xxxx',\n",
       " '--------XSS?SX---QQ?QQ------xx<>-x-----------xx--?',\n",
       " '---------------------------xx-[]--x---------xx----',\n",
       " '--------------------------xx--[]---x-------xx-----',\n",
       " 'xxxxxxxxxxxxxxxxxxxxxxxxxxx---[]----xxxxxxxx------',\n",
       " 'XXXXXXXXXXXXXXXXXXXXXXXXXXXXXXXXXXXXXXXXXXXX---XXX']"
      ]
     },
     "execution_count": 6,
     "metadata": {},
     "output_type": "execute_result"
    }
   ],
   "source": [
    "view_level(dataset.input_ids[:700], dataset.tokenizer)"
   ]
  },
  {
   "cell_type": "code",
   "execution_count": 7,
   "id": "d7082d58-d8a6-4e02-95d5-dcf2728ef54a",
   "metadata": {},
   "outputs": [
    {
     "name": "stderr",
     "output_type": "stream",
     "text": [
      "/home/kokkgoblin/miniconda3/envs/py39/lib/python3.9/site-packages/Pillow-9.1.1-py3.9-linux-x86_64.egg/PIL/Image.py:992: UserWarning: Palette images with Transparency expressed in bytes should be converted to RGBA images\n",
      "  warnings.warn(\n"
     ]
    },
    {
     "data": {
      "image/png": "[encoded data removed]",
      "text/plain": [
       "<PIL.Image.Image image mode=RGB size=800x224>"
      ]
     },
     "execution_count": 7,
     "metadata": {},
     "output_type": "execute_result"
    }
   ],
   "source": [
    "img = convert_level_to_png(dataset.input_ids[:700],  dataset.tokenizer)[0]\n",
    "img"
   ]
  },
  {
   "cell_type": "markdown",
   "id": "5b0186ee-8f66-435f-965b-3de9e344afd1",
   "metadata": {},
   "source": [
    "### Setup training"
   ]
  },
  {
   "cell_type": "code",
   "execution_count": 8,
   "id": "36e44f8c-878c-463e-a481-36229f295572",
   "metadata": {},
   "outputs": [],
   "source": [
    "config = TrainingConfig(save_iteration=10)"
   ]
  },
  {
   "cell_type": "code",
   "execution_count": 9,
   "id": "faf6fa43-e970-47a5-87c5-78bb7c2672e9",
   "metadata": {},
   "outputs": [
    {
     "name": "stderr",
     "output_type": "stream",
     "text": [
      "/home/kokkgoblin/miniconda3/envs/py39/lib/python3.9/site-packages/transformers/optimization.py:411: FutureWarning: This implementation of AdamW is deprecated and will be removed in a future version. Use the PyTorch implementation torch.optim.AdamW instead, or set `no_deprecation_warning=True` to disable this warning\n",
      "  warnings.warn(\n"
     ]
    }
   ],
   "source": [
    "trainer = MarioGPTTrainer(mario_lm, dataset, config=config)"
   ]
  },
  {
   "cell_type": "code",
   "execution_count": 11,
   "id": "8d8e037e-fae6-4c04-914c-3736d422c9ee",
   "metadata": {},
   "outputs": [
    {
     "name": "stdout",
     "output_type": "stream",
     "text": [
      "Training for 100 Iterations and batch_size 1\n",
      "================== Training Config ==================\n",
      "gradient_accumulation_steps -- 1\n",
      "mixed_precision -- no\n",
      "output_dir -- Mario-GPT2-700-context-length\n",
      "learning_rate -- 0.0005\n",
      "epsilon -- 1e-09\n",
      "lr_warmup_steps -- 1000\n",
      "batch_size -- 4\n",
      "total_steps -- 50000\n",
      "mask_proportion -- 0.0\n",
      "eval_iteration -- 1000\n",
      "save_iteration -- 10\n",
      "================== MarioLM ==================\n",
      "Follow tensorboard with: python -m tensorboard.main --logdir /home/kokkgoblin/Code/mario-gpt/notebooks/Mario-GPT2-700-context-length\n"
     ]
    },
    {
     "name": "stderr",
     "output_type": "stream",
     "text": [
      "{'loss': 0.6079789400100708, 'last_lr': 5.5e-05}: 100%|██████████████████████████████████████████████████████████████████████████████████████████████████████████████████████| 100/100 [00:18<00:00,  5.42it/s]\n"
     ]
    }
   ],
   "source": [
    "trainer.train(100, batch_size=1)"
   ]
  }
 ],
 "metadata": {
  "kernelspec": {
   "display_name": "Python [conda env:py39] *",
   "language": "python",
   "name": "conda-env-py39-py"
  },
  "language_info": {
   "codemirror_mode": {
    "name": "ipython",
    "version": 3
   },
   "file_extension": ".py",
   "mimetype": "text/x-python",
   "name": "python",
   "nbconvert_exporter": "python",
   "pygments_lexer": "ipython3",
   "version": "3.9.0"
  }
 },
 "nbformat": 4,
 "nbformat_minor": 5
}
